{
  "nbformat": 4,
  "nbformat_minor": 0,
  "metadata": {
    "colab": {
      "name": "Baymax_Bot.ipynb",
      "provenance": [],
      "authorship_tag": "ABX9TyNFIz4+q5wikcsGe3L5ouVA",
      "include_colab_link": true
    },
    "kernelspec": {
      "name": "python3",
      "display_name": "Python 3"
    },
    "language_info": {
      "name": "python"
    }
  },
  "cells": [
    {
      "cell_type": "markdown",
      "metadata": {
        "id": "view-in-github",
        "colab_type": "text"
      },
      "source": [
        "<a href=\"https://colab.research.google.com/github/Pratyaksha-047/Baymax_bot/blob/main/Baymax_Bot.ipynb\" target=\"_parent\"><img src=\"https://colab.research.google.com/assets/colab-badge.svg\" alt=\"Open In Colab\"/></a>"
      ]
    },
    {
      "cell_type": "code",
      "metadata": {
        "id": "X69-U5XGSU-E"
      },
      "source": [
        "import random\n",
        "from tensorflow.keras.optimizers import SGD\n",
        "from tensorflow.python.keras.layers import Dense, Activation, Dropout\n",
        "from tensorflow.python.keras.models import Sequential\n",
        "import numpy as np\n",
        "import pickle\n",
        "import json\n",
        "import nltk\n",
        "from nltk.stem import WordNetLemmatizer"
      ],
      "execution_count": 1,
      "outputs": []
    },
    {
      "cell_type": "code",
      "metadata": {
        "colab": {
          "base_uri": "https://localhost:8080/"
        },
        "id": "MlXB8vCkSZwU",
        "outputId": "8a91fe6a-f2a6-411b-b744-6ddf5d4e251f"
      },
      "source": [
        "nltk.download('wordnet')\n",
        "nltk.download('punkt')\n",
        "\n",
        "lemmatizer = WordNetLemmatizer()\n",
        "\n",
        "words = []\n",
        "classes = []\n",
        "documents = []\n",
        "ignore_words = ['?', '!']\n",
        "data_file = open('intents.json').read()\n",
        "intents = json.loads(data_file)"
      ],
      "execution_count": 2,
      "outputs": [
        {
          "output_type": "stream",
          "name": "stdout",
          "text": [
            "[nltk_data] Downloading package wordnet to /root/nltk_data...\n",
            "[nltk_data]   Package wordnet is already up-to-date!\n",
            "[nltk_data] Downloading package punkt to /root/nltk_data...\n",
            "[nltk_data]   Package punkt is already up-to-date!\n"
          ]
        }
      ]
    },
    {
      "cell_type": "code",
      "metadata": {
        "id": "nFo3ip9vbix3"
      },
      "source": [
        "for intent in intents['intents']:\n",
        "    for pattern in intent['patterns']:\n",
        "\n",
        "        # tokenize each word\n",
        "        w = nltk.word_tokenize(pattern)\n",
        "        words.extend(w)\n",
        "        # add documents in the corpus\n",
        "        documents.append((w, intent['tag']))\n",
        "\n",
        "        # add to our classes list\n",
        "        if intent['tag'] not in classes:\n",
        "            classes.append(intent['tag'])"
      ],
      "execution_count": 3,
      "outputs": []
    },
    {
      "cell_type": "code",
      "metadata": {
        "colab": {
          "base_uri": "https://localhost:8080/"
        },
        "id": "Y-jDg2RJSkjH",
        "outputId": "0341832e-6580-452b-84c2-29d370d282b7"
      },
      "source": [
        "# lemmaztize and lower each word and remove duplicates\n",
        "words = [lemmatizer.lemmatize(w.lower())\n",
        "         for w in words if w not in ignore_words]\n",
        "words = sorted(list(set(words)))\n",
        "# sort classes\n",
        "classes = sorted(list(set(classes)))\n",
        "# documents = combination between patterns and intents\n",
        "print(len(documents), \"documents\")\n",
        "# classes = intents\n",
        "print(len(classes), \"classes\", classes)\n",
        "# words = all words, vocabulary\n",
        "print(len(words), \"unique lemmatized words\", words)\n"
      ],
      "execution_count": 4,
      "outputs": [
        {
          "output_type": "stream",
          "name": "stdout",
          "text": [
            "97 documents\n",
            "23 classes ['angry', 'bullying', 'consistent', 'crisis', 'depression', 'failure_motivation', 'fitness_motivation', 'goodbye', 'greetings', 'guilty', 'hyper_empathy_disorder', 'jealous', 'life', 'loneliness', 'love', 'moral values', 'options', 'self_esteem', 'self_hatred', 'study_motivation', 'success', 'thanks', 'unhappy']\n",
            "284 unique lemmatized words [\"'\", \"'m\", \"'s\", ',', '-', '.', 'a', 'able', 'about', 'actually', 'advise', 'after', 'afterlife', 'ahhhhh', 'alcohol', 'all', 'always', 'am', 'among', 'an', 'and', 'angry', 'anymore', 'anyone', 'are', 'around', 'ashamed', 'asks', 'attention', 'awesome', 'barely', 'be', 'because', 'become', 'being', 'believe', 'belong', 'best', 'better', 'body', 'box', 'bullied', 'but', 'bye', 'called', 'can', 'capable', 'case', 'change', 'character', 'chatting', 'concentration', 'confidence', 'consistency', 'consistent', 'could', 'crave', 'cup', 'day', 'depression', 'difficult', 'disappointed', 'disorder', 'do', 'doe', 'doing', 'don', 'eating', 'else', 'empathize', 'empathy', 'end', 'ending', 'esteem', 'even', 'every', 'everyone', 'everything', 'excuse', 'expectation', 'face', 'failed', 'feel', 'feeling', 'finish', 'focus', 'food', 'for', 'force', 'forever', 'forgave', 'forgive', 'friend', 'fully', 'gaining', 'game', 'get', 'give', 'giving', 'going', 'good', 'goodbye', 'guilty', 'ha', 'happened', 'happens', 'happy', 'hard', 'hate', 'have', 'healthy', 'hell', 'hello', 'help', 'helpful', 'helping', 'here', 'hey', 'hi', 'hola', 'horrible', 'how', 'humiliating', 'hyper', 'i', 'if', 'improve', 'in', 'is', 'issue', 'it', 'jealous', 'junk', 'just', 'kill', 'kind', 'know', 'lack', 'later', 'life', 'like', 'lined', 'live', 'living', 'lonely', 'look', 'love', 'loved', 'low', 'm', 'mad', 'made', 'make', 'many', 'match', 'me', 'meet', 'messing', 'mirror', 'mistake', 'more', 'much', 'my', 'myself', \"n't\", 'na', 'need', 'neighbor', 'never', 'next', 'nice', 'nobody', 'not', 'nothing', 'of', 'offered', 'on', 'one', 'or', 'other', 'out', 'overnight', 'pain', 'parent', 'people', 'perform', 'physical', 'picked', 'picture', 'popular', 'provide', 'purpose', 'really', 'receive', 'receives', 'revolve', 'rich', 'routine', 's', 'sad', 'same', 'scared', 'scold', 'score', 'scream', 'scribble', 'see', 'seeing', 'self', 'should', 'side', 'sleep', 'so', 'some', 'someone', 'something', 'started', 'stay', 'staying', 'stop', 'stopped', 'student', 'study', 'studying', 'stupid', 'success', 'successful', 'support', 't', 'task', 'tea', 'teasing', 'tensed', 'test', 'than', 'thank', 'thanks', 'that', 'the', 'them', 'there', 'they', 'thing', 'think', 'this', 'though', 'thought', 'through', 'till', 'time', 'to', 'today', 'try', 'trying', 'tv', 'ugly', 'unhappy', 'up', 'use', 'useless', 'very', 'video', 'wa', 'wan', 'want', 'way', 'we', 'weight', 'well', 'were', 'what', 'when', 'why', 'will', 'win', 'wish', 'with', 'wonder', 'work', 'worthless', 'you', '’', '“', '”']\n"
          ]
        }
      ]
    },
    {
      "cell_type": "code",
      "metadata": {
        "id": "Z-7kcUzSSlOS"
      },
      "source": [
        "pickle.dump(words, open('words.pkl', 'wb'))\n",
        "pickle.dump(classes, open('classes.pkl', 'wb'))"
      ],
      "execution_count": 5,
      "outputs": []
    },
    {
      "cell_type": "code",
      "metadata": {
        "colab": {
          "base_uri": "https://localhost:8080/"
        },
        "id": "cPJVIaA8SpE_",
        "outputId": "e86fa349-a5fc-4045-f888-5e8d5c9bfb4f"
      },
      "source": [
        "# create our training data\n",
        "training = []\n",
        "# create an empty array for our output\n",
        "output_empty = [0] * len(classes)\n",
        "# training set, bag of words for each sentence\n",
        "for doc in documents:\n",
        "    # initialize our bag of words\n",
        "    bag = []\n",
        "    # list of tokenized words for the pattern\n",
        "    pattern_words = doc[0]\n",
        "    # lemmatize each word - create base word, in attempt to represent related words\n",
        "    pattern_words = [lemmatizer.lemmatize(\n",
        "        word.lower()) for word in pattern_words]\n",
        "    # create our bag of words array with 1, if word match found in current pattern\n",
        "    for w in words:\n",
        "        bag.append(1) if w in pattern_words else bag.append(0)\n",
        "\n",
        "    # output is a '0' for each tag and '1' for current tag (for each pattern)\n",
        "    output_row = list(output_empty)\n",
        "    output_row[classes.index(doc[1])] = 1\n",
        "\n",
        "    training.append([bag, output_row])\n",
        "# shuffle our features and turn into np.array\n",
        "random.shuffle(training)\n",
        "training = np.array(training)\n",
        "# create train and test lists. X - patterns, Y - intents\n",
        "train_x = list(training[:, 0])\n",
        "train_y = list(training[:, 1])\n",
        "print(\"Training data created\")"
      ],
      "execution_count": 6,
      "outputs": [
        {
          "output_type": "stream",
          "name": "stdout",
          "text": [
            "Training data created\n"
          ]
        },
        {
          "output_type": "stream",
          "name": "stderr",
          "text": [
            "/usr/local/lib/python3.7/dist-packages/ipykernel_launcher.py:25: VisibleDeprecationWarning: Creating an ndarray from ragged nested sequences (which is a list-or-tuple of lists-or-tuples-or ndarrays with different lengths or shapes) is deprecated. If you meant to do this, you must specify 'dtype=object' when creating the ndarray\n"
          ]
        }
      ]
    },
    {
      "cell_type": "code",
      "metadata": {
        "colab": {
          "base_uri": "https://localhost:8080/"
        },
        "id": "CS8rnrvVStIC",
        "outputId": "58e4a5bb-7a45-4570-f8f7-e25dfb2e3907"
      },
      "source": [
        "# Create model - 3 layers. First layer 128 neurons, second layer 64 neurons and 3rd output layer contains number of neurons\n",
        "# equal to number of intents to predict output intent with softmax\n",
        "model = Sequential()\n",
        "model.add(Dense(128, input_shape=(len(train_x[0]),), activation='relu'))\n",
        "model.add(Dropout(0.5))\n",
        "model.add(Dense(64, activation='relu'))\n",
        "model.add(Dropout(0.5))\n",
        "model.add(Dense(len(train_y[0]), activation='softmax'))\n",
        "\n",
        "# Compile model\n",
        "model.compile(loss='categorical_crossentropy',\n",
        "              optimizer='adam', metrics=['accuracy'])\n",
        "\n",
        "# fitting and saving the model\n",
        "hist = model.fit(np.array(train_x), np.array(train_y),\n",
        "                 epochs=200, batch_size=5, verbose=1)\n",
        "model.save('chatbot_model.h5', hist)\n",
        "\n",
        "print(\"model created\")"
      ],
      "execution_count": 7,
      "outputs": [
        {
          "output_type": "stream",
          "name": "stdout",
          "text": [
            "Epoch 1/200\n",
            "20/20 [==============================] - 0s 2ms/step - loss: 3.1491 - accuracy: 0.0619\n",
            "Epoch 2/200\n",
            "20/20 [==============================] - 0s 2ms/step - loss: 3.1255 - accuracy: 0.0722\n",
            "Epoch 3/200\n",
            "20/20 [==============================] - 0s 1ms/step - loss: 3.0409 - accuracy: 0.1134\n",
            "Epoch 4/200\n",
            "20/20 [==============================] - 0s 1ms/step - loss: 3.0116 - accuracy: 0.1340\n",
            "Epoch 5/200\n",
            "20/20 [==============================] - 0s 1ms/step - loss: 2.9619 - accuracy: 0.1237\n",
            "Epoch 6/200\n",
            "20/20 [==============================] - 0s 1ms/step - loss: 2.9046 - accuracy: 0.1856\n",
            "Epoch 7/200\n",
            "20/20 [==============================] - 0s 1ms/step - loss: 2.8295 - accuracy: 0.2062\n",
            "Epoch 8/200\n",
            "20/20 [==============================] - 0s 2ms/step - loss: 2.7671 - accuracy: 0.1649\n",
            "Epoch 9/200\n",
            "20/20 [==============================] - 0s 2ms/step - loss: 2.7025 - accuracy: 0.3402\n",
            "Epoch 10/200\n",
            "20/20 [==============================] - 0s 2ms/step - loss: 2.5703 - accuracy: 0.3299\n",
            "Epoch 11/200\n",
            "20/20 [==============================] - 0s 2ms/step - loss: 2.5331 - accuracy: 0.3711\n",
            "Epoch 12/200\n",
            "20/20 [==============================] - 0s 2ms/step - loss: 2.4345 - accuracy: 0.3711\n",
            "Epoch 13/200\n",
            "20/20 [==============================] - 0s 2ms/step - loss: 2.3581 - accuracy: 0.3299\n",
            "Epoch 14/200\n",
            "20/20 [==============================] - 0s 2ms/step - loss: 2.1510 - accuracy: 0.4742\n",
            "Epoch 15/200\n",
            "20/20 [==============================] - 0s 2ms/step - loss: 2.1485 - accuracy: 0.4433\n",
            "Epoch 16/200\n",
            "20/20 [==============================] - 0s 1ms/step - loss: 1.9870 - accuracy: 0.5876\n",
            "Epoch 17/200\n",
            "20/20 [==============================] - 0s 1ms/step - loss: 1.8226 - accuracy: 0.5876\n",
            "Epoch 18/200\n",
            "20/20 [==============================] - 0s 1ms/step - loss: 1.7510 - accuracy: 0.6186\n",
            "Epoch 19/200\n",
            "20/20 [==============================] - 0s 1ms/step - loss: 1.6794 - accuracy: 0.5361\n",
            "Epoch 20/200\n",
            "20/20 [==============================] - 0s 2ms/step - loss: 1.4805 - accuracy: 0.6495\n",
            "Epoch 21/200\n",
            "20/20 [==============================] - 0s 2ms/step - loss: 1.5067 - accuracy: 0.6289\n",
            "Epoch 22/200\n",
            "20/20 [==============================] - 0s 2ms/step - loss: 1.3387 - accuracy: 0.7113\n",
            "Epoch 23/200\n",
            "20/20 [==============================] - 0s 2ms/step - loss: 1.3866 - accuracy: 0.6495\n",
            "Epoch 24/200\n",
            "20/20 [==============================] - 0s 2ms/step - loss: 1.3055 - accuracy: 0.7113\n",
            "Epoch 25/200\n",
            "20/20 [==============================] - 0s 2ms/step - loss: 1.1264 - accuracy: 0.7526\n",
            "Epoch 26/200\n",
            "20/20 [==============================] - 0s 2ms/step - loss: 1.1783 - accuracy: 0.7423\n",
            "Epoch 27/200\n",
            "20/20 [==============================] - 0s 3ms/step - loss: 0.9334 - accuracy: 0.8660\n",
            "Epoch 28/200\n",
            "20/20 [==============================] - 0s 2ms/step - loss: 0.9857 - accuracy: 0.7320\n",
            "Epoch 29/200\n",
            "20/20 [==============================] - 0s 2ms/step - loss: 1.0406 - accuracy: 0.7320\n",
            "Epoch 30/200\n",
            "20/20 [==============================] - 0s 2ms/step - loss: 0.8390 - accuracy: 0.8454\n",
            "Epoch 31/200\n",
            "20/20 [==============================] - 0s 2ms/step - loss: 0.8894 - accuracy: 0.7835\n",
            "Epoch 32/200\n",
            "20/20 [==============================] - 0s 1ms/step - loss: 0.8063 - accuracy: 0.8041\n",
            "Epoch 33/200\n",
            "20/20 [==============================] - 0s 2ms/step - loss: 0.8277 - accuracy: 0.8351\n",
            "Epoch 34/200\n",
            "20/20 [==============================] - 0s 2ms/step - loss: 0.6830 - accuracy: 0.8557\n",
            "Epoch 35/200\n",
            "20/20 [==============================] - 0s 2ms/step - loss: 0.8633 - accuracy: 0.8351\n",
            "Epoch 36/200\n",
            "20/20 [==============================] - 0s 2ms/step - loss: 0.6757 - accuracy: 0.8763\n",
            "Epoch 37/200\n",
            "20/20 [==============================] - 0s 2ms/step - loss: 0.6634 - accuracy: 0.8454\n",
            "Epoch 38/200\n",
            "20/20 [==============================] - 0s 2ms/step - loss: 0.5896 - accuracy: 0.8454\n",
            "Epoch 39/200\n",
            "20/20 [==============================] - 0s 2ms/step - loss: 0.5825 - accuracy: 0.8454\n",
            "Epoch 40/200\n",
            "20/20 [==============================] - 0s 2ms/step - loss: 0.6030 - accuracy: 0.8763\n",
            "Epoch 41/200\n",
            "20/20 [==============================] - 0s 2ms/step - loss: 0.4731 - accuracy: 0.9278\n",
            "Epoch 42/200\n",
            "20/20 [==============================] - 0s 2ms/step - loss: 0.5990 - accuracy: 0.8454\n",
            "Epoch 43/200\n",
            "20/20 [==============================] - 0s 2ms/step - loss: 0.4948 - accuracy: 0.8763\n",
            "Epoch 44/200\n",
            "20/20 [==============================] - 0s 2ms/step - loss: 0.4883 - accuracy: 0.8763\n",
            "Epoch 45/200\n",
            "20/20 [==============================] - 0s 2ms/step - loss: 0.4575 - accuracy: 0.9072\n",
            "Epoch 46/200\n",
            "20/20 [==============================] - 0s 2ms/step - loss: 0.4900 - accuracy: 0.8866\n",
            "Epoch 47/200\n",
            "20/20 [==============================] - 0s 2ms/step - loss: 0.3786 - accuracy: 0.9175\n",
            "Epoch 48/200\n",
            "20/20 [==============================] - 0s 1ms/step - loss: 0.4499 - accuracy: 0.9072\n",
            "Epoch 49/200\n",
            "20/20 [==============================] - 0s 2ms/step - loss: 0.3685 - accuracy: 0.9381\n",
            "Epoch 50/200\n",
            "20/20 [==============================] - 0s 2ms/step - loss: 0.2954 - accuracy: 0.9485\n",
            "Epoch 51/200\n",
            "20/20 [==============================] - 0s 2ms/step - loss: 0.3258 - accuracy: 0.8969\n",
            "Epoch 52/200\n",
            "20/20 [==============================] - 0s 2ms/step - loss: 0.3248 - accuracy: 0.9691\n",
            "Epoch 53/200\n",
            "20/20 [==============================] - 0s 2ms/step - loss: 0.3990 - accuracy: 0.8969\n",
            "Epoch 54/200\n",
            "20/20 [==============================] - 0s 2ms/step - loss: 0.2753 - accuracy: 0.9485\n",
            "Epoch 55/200\n",
            "20/20 [==============================] - 0s 2ms/step - loss: 0.2928 - accuracy: 0.9381\n",
            "Epoch 56/200\n",
            "20/20 [==============================] - 0s 2ms/step - loss: 0.2879 - accuracy: 0.9485\n",
            "Epoch 57/200\n",
            "20/20 [==============================] - 0s 2ms/step - loss: 0.3291 - accuracy: 0.9381\n",
            "Epoch 58/200\n",
            "20/20 [==============================] - 0s 2ms/step - loss: 0.3498 - accuracy: 0.9381\n",
            "Epoch 59/200\n",
            "20/20 [==============================] - 0s 2ms/step - loss: 0.3445 - accuracy: 0.9381\n",
            "Epoch 60/200\n",
            "20/20 [==============================] - 0s 2ms/step - loss: 0.2576 - accuracy: 0.9691\n",
            "Epoch 61/200\n",
            "20/20 [==============================] - 0s 2ms/step - loss: 0.2440 - accuracy: 0.9588\n",
            "Epoch 62/200\n",
            "20/20 [==============================] - 0s 2ms/step - loss: 0.2687 - accuracy: 0.9278\n",
            "Epoch 63/200\n",
            "20/20 [==============================] - 0s 2ms/step - loss: 0.2389 - accuracy: 0.9381\n",
            "Epoch 64/200\n",
            "20/20 [==============================] - 0s 2ms/step - loss: 0.2987 - accuracy: 0.9175\n",
            "Epoch 65/200\n",
            "20/20 [==============================] - 0s 2ms/step - loss: 0.2483 - accuracy: 0.9588\n",
            "Epoch 66/200\n",
            "20/20 [==============================] - 0s 2ms/step - loss: 0.2842 - accuracy: 0.9072\n",
            "Epoch 67/200\n",
            "20/20 [==============================] - 0s 2ms/step - loss: 0.3440 - accuracy: 0.8969\n",
            "Epoch 68/200\n",
            "20/20 [==============================] - 0s 2ms/step - loss: 0.2855 - accuracy: 0.9072\n",
            "Epoch 69/200\n",
            "20/20 [==============================] - 0s 2ms/step - loss: 0.3064 - accuracy: 0.9381\n",
            "Epoch 70/200\n",
            "20/20 [==============================] - 0s 2ms/step - loss: 0.1945 - accuracy: 0.9691\n",
            "Epoch 71/200\n",
            "20/20 [==============================] - 0s 2ms/step - loss: 0.2491 - accuracy: 0.9485\n",
            "Epoch 72/200\n",
            "20/20 [==============================] - 0s 2ms/step - loss: 0.2430 - accuracy: 0.9588\n",
            "Epoch 73/200\n",
            "20/20 [==============================] - 0s 1ms/step - loss: 0.2624 - accuracy: 0.9278\n",
            "Epoch 74/200\n",
            "20/20 [==============================] - 0s 2ms/step - loss: 0.2208 - accuracy: 0.9485\n",
            "Epoch 75/200\n",
            "20/20 [==============================] - 0s 1ms/step - loss: 0.2339 - accuracy: 0.9485\n",
            "Epoch 76/200\n",
            "20/20 [==============================] - 0s 2ms/step - loss: 0.1774 - accuracy: 0.9588\n",
            "Epoch 77/200\n",
            "20/20 [==============================] - 0s 2ms/step - loss: 0.1661 - accuracy: 0.9691\n",
            "Epoch 78/200\n",
            "20/20 [==============================] - 0s 2ms/step - loss: 0.2147 - accuracy: 0.9485\n",
            "Epoch 79/200\n",
            "20/20 [==============================] - 0s 2ms/step - loss: 0.1664 - accuracy: 0.9691\n",
            "Epoch 80/200\n",
            "20/20 [==============================] - 0s 2ms/step - loss: 0.1829 - accuracy: 0.9588\n",
            "Epoch 81/200\n",
            "20/20 [==============================] - 0s 2ms/step - loss: 0.1279 - accuracy: 0.9588\n",
            "Epoch 82/200\n",
            "20/20 [==============================] - 0s 2ms/step - loss: 0.2204 - accuracy: 0.9588\n",
            "Epoch 83/200\n",
            "20/20 [==============================] - 0s 2ms/step - loss: 0.2081 - accuracy: 0.9588\n",
            "Epoch 84/200\n",
            "20/20 [==============================] - 0s 2ms/step - loss: 0.1910 - accuracy: 0.9381\n",
            "Epoch 85/200\n",
            "20/20 [==============================] - 0s 2ms/step - loss: 0.1122 - accuracy: 0.9897\n",
            "Epoch 86/200\n",
            "20/20 [==============================] - 0s 2ms/step - loss: 0.1319 - accuracy: 0.9691\n",
            "Epoch 87/200\n",
            "20/20 [==============================] - 0s 2ms/step - loss: 0.1545 - accuracy: 1.0000\n",
            "Epoch 88/200\n",
            "20/20 [==============================] - 0s 2ms/step - loss: 0.1935 - accuracy: 0.9691\n",
            "Epoch 89/200\n",
            "20/20 [==============================] - 0s 2ms/step - loss: 0.1743 - accuracy: 0.9588\n",
            "Epoch 90/200\n",
            "20/20 [==============================] - 0s 2ms/step - loss: 0.1654 - accuracy: 0.9485\n",
            "Epoch 91/200\n",
            "20/20 [==============================] - 0s 2ms/step - loss: 0.1483 - accuracy: 0.9794\n",
            "Epoch 92/200\n",
            "20/20 [==============================] - 0s 2ms/step - loss: 0.1149 - accuracy: 1.0000\n",
            "Epoch 93/200\n",
            "20/20 [==============================] - 0s 2ms/step - loss: 0.1053 - accuracy: 0.9691\n",
            "Epoch 94/200\n",
            "20/20 [==============================] - 0s 2ms/step - loss: 0.1353 - accuracy: 0.9691\n",
            "Epoch 95/200\n",
            "20/20 [==============================] - 0s 2ms/step - loss: 0.1608 - accuracy: 0.9485\n",
            "Epoch 96/200\n",
            "20/20 [==============================] - 0s 2ms/step - loss: 0.1116 - accuracy: 0.9794\n",
            "Epoch 97/200\n",
            "20/20 [==============================] - 0s 1ms/step - loss: 0.1449 - accuracy: 0.9381\n",
            "Epoch 98/200\n",
            "20/20 [==============================] - 0s 2ms/step - loss: 0.1577 - accuracy: 0.9588\n",
            "Epoch 99/200\n",
            "20/20 [==============================] - 0s 2ms/step - loss: 0.0895 - accuracy: 0.9897\n",
            "Epoch 100/200\n",
            "20/20 [==============================] - 0s 2ms/step - loss: 0.1577 - accuracy: 0.9485\n",
            "Epoch 101/200\n",
            "20/20 [==============================] - 0s 2ms/step - loss: 0.1062 - accuracy: 0.9897\n",
            "Epoch 102/200\n",
            "20/20 [==============================] - 0s 2ms/step - loss: 0.1511 - accuracy: 0.9588\n",
            "Epoch 103/200\n",
            "20/20 [==============================] - 0s 2ms/step - loss: 0.1508 - accuracy: 0.9588\n",
            "Epoch 104/200\n",
            "20/20 [==============================] - 0s 2ms/step - loss: 0.1718 - accuracy: 0.9691\n",
            "Epoch 105/200\n",
            "20/20 [==============================] - 0s 2ms/step - loss: 0.0541 - accuracy: 1.0000\n",
            "Epoch 106/200\n",
            "20/20 [==============================] - 0s 2ms/step - loss: 0.0919 - accuracy: 0.9794\n",
            "Epoch 107/200\n",
            "20/20 [==============================] - 0s 1ms/step - loss: 0.0842 - accuracy: 0.9897\n",
            "Epoch 108/200\n",
            "20/20 [==============================] - 0s 2ms/step - loss: 0.1399 - accuracy: 0.9485\n",
            "Epoch 109/200\n",
            "20/20 [==============================] - 0s 2ms/step - loss: 0.1383 - accuracy: 0.9588\n",
            "Epoch 110/200\n",
            "20/20 [==============================] - 0s 2ms/step - loss: 0.0981 - accuracy: 0.9897\n",
            "Epoch 111/200\n",
            "20/20 [==============================] - 0s 2ms/step - loss: 0.0949 - accuracy: 0.9794\n",
            "Epoch 112/200\n",
            "20/20 [==============================] - 0s 2ms/step - loss: 0.0698 - accuracy: 1.0000\n",
            "Epoch 113/200\n",
            "20/20 [==============================] - 0s 2ms/step - loss: 0.1080 - accuracy: 0.9897\n",
            "Epoch 114/200\n",
            "20/20 [==============================] - 0s 2ms/step - loss: 0.1188 - accuracy: 0.9794\n",
            "Epoch 115/200\n",
            "20/20 [==============================] - 0s 2ms/step - loss: 0.1282 - accuracy: 0.9691\n",
            "Epoch 116/200\n",
            "20/20 [==============================] - 0s 2ms/step - loss: 0.1422 - accuracy: 0.9588\n",
            "Epoch 117/200\n",
            "20/20 [==============================] - 0s 2ms/step - loss: 0.0953 - accuracy: 0.9794\n",
            "Epoch 118/200\n",
            "20/20 [==============================] - 0s 2ms/step - loss: 0.1215 - accuracy: 0.9691\n",
            "Epoch 119/200\n",
            "20/20 [==============================] - 0s 2ms/step - loss: 0.1042 - accuracy: 0.9794\n",
            "Epoch 120/200\n",
            "20/20 [==============================] - 0s 2ms/step - loss: 0.1974 - accuracy: 0.9485\n",
            "Epoch 121/200\n",
            "20/20 [==============================] - 0s 2ms/step - loss: 0.1069 - accuracy: 0.9897\n",
            "Epoch 122/200\n",
            "20/20 [==============================] - 0s 2ms/step - loss: 0.0955 - accuracy: 0.9794\n",
            "Epoch 123/200\n",
            "20/20 [==============================] - 0s 1ms/step - loss: 0.1076 - accuracy: 0.9794\n",
            "Epoch 124/200\n",
            "20/20 [==============================] - 0s 2ms/step - loss: 0.1044 - accuracy: 0.9794\n",
            "Epoch 125/200\n",
            "20/20 [==============================] - 0s 2ms/step - loss: 0.0826 - accuracy: 1.0000\n",
            "Epoch 126/200\n",
            "20/20 [==============================] - 0s 2ms/step - loss: 0.1561 - accuracy: 0.9588\n",
            "Epoch 127/200\n",
            "20/20 [==============================] - 0s 2ms/step - loss: 0.0807 - accuracy: 0.9897\n",
            "Epoch 128/200\n",
            "20/20 [==============================] - 0s 2ms/step - loss: 0.1747 - accuracy: 0.9485\n",
            "Epoch 129/200\n",
            "20/20 [==============================] - 0s 2ms/step - loss: 0.1565 - accuracy: 0.9485\n",
            "Epoch 130/200\n",
            "20/20 [==============================] - 0s 2ms/step - loss: 0.0988 - accuracy: 0.9691\n",
            "Epoch 131/200\n",
            "20/20 [==============================] - 0s 2ms/step - loss: 0.1329 - accuracy: 0.9691\n",
            "Epoch 132/200\n",
            "20/20 [==============================] - 0s 2ms/step - loss: 0.0665 - accuracy: 0.9794\n",
            "Epoch 133/200\n",
            "20/20 [==============================] - 0s 2ms/step - loss: 0.0977 - accuracy: 0.9588\n",
            "Epoch 134/200\n",
            "20/20 [==============================] - 0s 2ms/step - loss: 0.0769 - accuracy: 0.9897\n",
            "Epoch 135/200\n",
            "20/20 [==============================] - 0s 2ms/step - loss: 0.1279 - accuracy: 0.9485\n",
            "Epoch 136/200\n",
            "20/20 [==============================] - 0s 2ms/step - loss: 0.0801 - accuracy: 0.9897\n",
            "Epoch 137/200\n",
            "20/20 [==============================] - 0s 2ms/step - loss: 0.0767 - accuracy: 0.9897\n",
            "Epoch 138/200\n",
            "20/20 [==============================] - 0s 2ms/step - loss: 0.1296 - accuracy: 0.9691\n",
            "Epoch 139/200\n",
            "20/20 [==============================] - 0s 2ms/step - loss: 0.0888 - accuracy: 0.9588\n",
            "Epoch 140/200\n",
            "20/20 [==============================] - 0s 2ms/step - loss: 0.1153 - accuracy: 0.9691\n",
            "Epoch 141/200\n",
            "20/20 [==============================] - 0s 2ms/step - loss: 0.0942 - accuracy: 0.9691\n",
            "Epoch 142/200\n",
            "20/20 [==============================] - 0s 1ms/step - loss: 0.0745 - accuracy: 1.0000\n",
            "Epoch 143/200\n",
            "20/20 [==============================] - 0s 2ms/step - loss: 0.1051 - accuracy: 0.9691\n",
            "Epoch 144/200\n",
            "20/20 [==============================] - 0s 2ms/step - loss: 0.1425 - accuracy: 0.9588\n",
            "Epoch 145/200\n",
            "20/20 [==============================] - 0s 2ms/step - loss: 0.0899 - accuracy: 0.9691\n",
            "Epoch 146/200\n",
            "20/20 [==============================] - 0s 2ms/step - loss: 0.0759 - accuracy: 0.9897\n",
            "Epoch 147/200\n",
            "20/20 [==============================] - 0s 2ms/step - loss: 0.0865 - accuracy: 0.9794\n",
            "Epoch 148/200\n",
            "20/20 [==============================] - 0s 2ms/step - loss: 0.0730 - accuracy: 0.9691\n",
            "Epoch 149/200\n",
            "20/20 [==============================] - 0s 2ms/step - loss: 0.0495 - accuracy: 0.9897\n",
            "Epoch 150/200\n",
            "20/20 [==============================] - 0s 2ms/step - loss: 0.1100 - accuracy: 0.9485\n",
            "Epoch 151/200\n",
            "20/20 [==============================] - 0s 2ms/step - loss: 0.0718 - accuracy: 0.9897\n",
            "Epoch 152/200\n",
            "20/20 [==============================] - 0s 2ms/step - loss: 0.0656 - accuracy: 0.9897\n",
            "Epoch 153/200\n",
            "20/20 [==============================] - 0s 2ms/step - loss: 0.0646 - accuracy: 0.9794\n",
            "Epoch 154/200\n",
            "20/20 [==============================] - 0s 2ms/step - loss: 0.0877 - accuracy: 0.9691\n",
            "Epoch 155/200\n",
            "20/20 [==============================] - 0s 2ms/step - loss: 0.0450 - accuracy: 0.9897\n",
            "Epoch 156/200\n",
            "20/20 [==============================] - 0s 2ms/step - loss: 0.1248 - accuracy: 0.9588\n",
            "Epoch 157/200\n",
            "20/20 [==============================] - 0s 2ms/step - loss: 0.0785 - accuracy: 0.9794\n",
            "Epoch 158/200\n",
            "20/20 [==============================] - 0s 2ms/step - loss: 0.0756 - accuracy: 0.9897\n",
            "Epoch 159/200\n",
            "20/20 [==============================] - 0s 2ms/step - loss: 0.0317 - accuracy: 1.0000\n",
            "Epoch 160/200\n",
            "20/20 [==============================] - 0s 2ms/step - loss: 0.0652 - accuracy: 0.9794\n",
            "Epoch 161/200\n",
            "20/20 [==============================] - 0s 2ms/step - loss: 0.1586 - accuracy: 0.9588\n",
            "Epoch 162/200\n",
            "20/20 [==============================] - 0s 2ms/step - loss: 0.0814 - accuracy: 0.9794\n",
            "Epoch 163/200\n",
            "20/20 [==============================] - 0s 2ms/step - loss: 0.0847 - accuracy: 0.9691\n",
            "Epoch 164/200\n",
            "20/20 [==============================] - 0s 2ms/step - loss: 0.0525 - accuracy: 0.9691\n",
            "Epoch 165/200\n",
            "20/20 [==============================] - 0s 2ms/step - loss: 0.0533 - accuracy: 0.9897\n",
            "Epoch 166/200\n",
            "20/20 [==============================] - 0s 2ms/step - loss: 0.0770 - accuracy: 0.9691\n",
            "Epoch 167/200\n",
            "20/20 [==============================] - 0s 1ms/step - loss: 0.0688 - accuracy: 0.9794\n",
            "Epoch 168/200\n",
            "20/20 [==============================] - 0s 2ms/step - loss: 0.0443 - accuracy: 1.0000\n",
            "Epoch 169/200\n",
            "20/20 [==============================] - 0s 2ms/step - loss: 0.1040 - accuracy: 0.9691\n",
            "Epoch 170/200\n",
            "20/20 [==============================] - 0s 2ms/step - loss: 0.0453 - accuracy: 0.9897\n",
            "Epoch 171/200\n",
            "20/20 [==============================] - 0s 2ms/step - loss: 0.0611 - accuracy: 0.9794\n",
            "Epoch 172/200\n",
            "20/20 [==============================] - 0s 2ms/step - loss: 0.0852 - accuracy: 0.9794\n",
            "Epoch 173/200\n",
            "20/20 [==============================] - 0s 2ms/step - loss: 0.0476 - accuracy: 1.0000\n",
            "Epoch 174/200\n",
            "20/20 [==============================] - 0s 2ms/step - loss: 0.0491 - accuracy: 0.9897\n",
            "Epoch 175/200\n",
            "20/20 [==============================] - 0s 2ms/step - loss: 0.0300 - accuracy: 0.9897\n",
            "Epoch 176/200\n",
            "20/20 [==============================] - 0s 2ms/step - loss: 0.0543 - accuracy: 1.0000\n",
            "Epoch 177/200\n",
            "20/20 [==============================] - 0s 2ms/step - loss: 0.0431 - accuracy: 0.9794\n",
            "Epoch 178/200\n",
            "20/20 [==============================] - 0s 2ms/step - loss: 0.0594 - accuracy: 0.9794\n",
            "Epoch 179/200\n",
            "20/20 [==============================] - 0s 2ms/step - loss: 0.0529 - accuracy: 0.9897\n",
            "Epoch 180/200\n",
            "20/20 [==============================] - 0s 2ms/step - loss: 0.0690 - accuracy: 0.9897\n",
            "Epoch 181/200\n",
            "20/20 [==============================] - 0s 2ms/step - loss: 0.1123 - accuracy: 0.9794\n",
            "Epoch 182/200\n",
            "20/20 [==============================] - 0s 2ms/step - loss: 0.0401 - accuracy: 1.0000\n",
            "Epoch 183/200\n",
            "20/20 [==============================] - 0s 2ms/step - loss: 0.0719 - accuracy: 0.9897\n",
            "Epoch 184/200\n",
            "20/20 [==============================] - 0s 2ms/step - loss: 0.0337 - accuracy: 1.0000\n",
            "Epoch 185/200\n",
            "20/20 [==============================] - 0s 2ms/step - loss: 0.0272 - accuracy: 0.9897\n",
            "Epoch 186/200\n",
            "20/20 [==============================] - 0s 2ms/step - loss: 0.0334 - accuracy: 0.9897\n",
            "Epoch 187/200\n",
            "20/20 [==============================] - 0s 2ms/step - loss: 0.0506 - accuracy: 0.9897\n",
            "Epoch 188/200\n",
            "20/20 [==============================] - 0s 2ms/step - loss: 0.0845 - accuracy: 0.9794\n",
            "Epoch 189/200\n",
            "20/20 [==============================] - 0s 2ms/step - loss: 0.0328 - accuracy: 1.0000\n",
            "Epoch 190/200\n",
            "20/20 [==============================] - 0s 2ms/step - loss: 0.0154 - accuracy: 1.0000\n",
            "Epoch 191/200\n",
            "20/20 [==============================] - 0s 2ms/step - loss: 0.0326 - accuracy: 1.0000\n",
            "Epoch 192/200\n",
            "20/20 [==============================] - 0s 2ms/step - loss: 0.0565 - accuracy: 0.9897\n",
            "Epoch 193/200\n",
            "20/20 [==============================] - 0s 2ms/step - loss: 0.0354 - accuracy: 0.9897\n",
            "Epoch 194/200\n",
            "20/20 [==============================] - 0s 2ms/step - loss: 0.0743 - accuracy: 0.9794\n",
            "Epoch 195/200\n",
            "20/20 [==============================] - 0s 2ms/step - loss: 0.0492 - accuracy: 0.9897\n",
            "Epoch 196/200\n",
            "20/20 [==============================] - 0s 2ms/step - loss: 0.0439 - accuracy: 0.9794\n",
            "Epoch 197/200\n",
            "20/20 [==============================] - 0s 2ms/step - loss: 0.0460 - accuracy: 1.0000\n",
            "Epoch 198/200\n",
            "20/20 [==============================] - 0s 2ms/step - loss: 0.0756 - accuracy: 0.9897\n",
            "Epoch 199/200\n",
            "20/20 [==============================] - 0s 2ms/step - loss: 0.0447 - accuracy: 0.9897\n",
            "Epoch 200/200\n",
            "20/20 [==============================] - 0s 2ms/step - loss: 0.0658 - accuracy: 0.9794\n",
            "model created\n"
          ]
        }
      ]
    },
    {
      "cell_type": "markdown",
      "metadata": {
        "id": "6Q7QCNocbqZZ"
      },
      "source": [
        "### Testing with user given input"
      ]
    },
    {
      "cell_type": "code",
      "metadata": {
        "id": "H4y1agfcWqjg"
      },
      "source": [
        "from tensorflow.python.keras.models import load_model"
      ],
      "execution_count": 8,
      "outputs": []
    },
    {
      "cell_type": "code",
      "metadata": {
        "id": "2OGs233-WrA_"
      },
      "source": [
        "model = load_model('chatbot_model.h5')\n",
        "intents = json.loads(open('intents.json').read())\n",
        "words = pickle.load(open('words.pkl', 'rb'))\n",
        "classes = pickle.load(open('classes.pkl', 'rb'))"
      ],
      "execution_count": 9,
      "outputs": []
    },
    {
      "cell_type": "code",
      "metadata": {
        "id": "tm643EqIWtDW"
      },
      "source": [
        "def clean_up_sentence(sentence):\n",
        "    # tokenize the pattern - split words into array\n",
        "    sentence_words = nltk.word_tokenize(sentence)\n",
        "    # stem each word - create short form for word\n",
        "    sentence_words = [lemmatizer.lemmatize(\n",
        "        word.lower()) for word in sentence_words]\n",
        "    return sentence_words\n",
        "\n",
        "# return bag of words array: 0 or 1 for each word in the bag that exists in the sentence"
      ],
      "execution_count": 10,
      "outputs": []
    },
    {
      "cell_type": "code",
      "metadata": {
        "id": "Mx2GGjm7Wwol"
      },
      "source": [
        "def bow(sentence, words, show_details=True):\n",
        "    # tokenize the pattern\n",
        "    sentence_words = clean_up_sentence(sentence)\n",
        "    # bag of words - matrix of N words, vocabulary matrix\n",
        "    bag = [0]*len(words)\n",
        "    for s in sentence_words:\n",
        "        for i, w in enumerate(words):\n",
        "            if w == s:\n",
        "                # assign 1 if current word is in the vocabulary position\n",
        "                bag[i] = 1\n",
        "                if show_details:\n",
        "                    print(\"found in bag: %s\" % w)\n",
        "    return(np.array(bag))"
      ],
      "execution_count": 11,
      "outputs": []
    },
    {
      "cell_type": "code",
      "metadata": {
        "id": "o19hiFdrWziH"
      },
      "source": [
        "def predict_class(sentence, model):\n",
        "    # filter out predictions below a threshold\n",
        "    p = bow(sentence, words, show_details=False)\n",
        "    res = model.predict(np.array([p]))[0]\n",
        "    ERROR_THRESHOLD = 0.25\n",
        "    results = [[i, r] for i, r in enumerate(res) if r > ERROR_THRESHOLD]\n",
        "    # sort by strength of probability\n",
        "    results.sort(key=lambda x: x[1], reverse=True)\n",
        "    return_list = []\n",
        "    for r in results:\n",
        "        return_list.append({\"intent\": classes[r[0]], \"probability\": str(r[1])})\n",
        "    return return_list"
      ],
      "execution_count": 12,
      "outputs": []
    },
    {
      "cell_type": "code",
      "metadata": {
        "id": "NeJfUQelW1q1"
      },
      "source": [
        "def getResponse(ints, intents_json):\n",
        "    tag = ints[0]['intent']\n",
        "    list_of_intents = intents_json['intents']\n",
        "    for i in list_of_intents:\n",
        "        if(i['tag'] == tag):\n",
        "            result = random.choice(i['responses'])\n",
        "            break\n",
        "    return result"
      ],
      "execution_count": 13,
      "outputs": []
    },
    {
      "cell_type": "code",
      "metadata": {
        "id": "F-4bdKCOW3Tm"
      },
      "source": [
        "def chatbot_response(msg):\n",
        "    ints = predict_class(msg, model)\n",
        "    res = getResponse(ints, intents)\n",
        "    return res"
      ],
      "execution_count": 14,
      "outputs": []
    },
    {
      "cell_type": "code",
      "metadata": {
        "colab": {
          "base_uri": "https://localhost:8080/"
        },
        "id": "cOj2impqW4rg",
        "outputId": "459ee6b5-7ed3-4a9f-c7f2-3ad9b0bc0aaf"
      },
      "source": [
        "mssg = input(\"Enter your message: \")\n",
        "print(chatbot_response(mssg))"
      ],
      "execution_count": 15,
      "outputs": [
        {
          "output_type": "stream",
          "name": "stdout",
          "text": [
            "Enter your message: my day was horrible\n",
            "Cheer up; do not let the small matters in life weigh you down. Don’t mess up your time hating anyone, life is too valuable \n"
          ]
        }
      ]
    },
    {
      "cell_type": "code",
      "metadata": {
        "id": "U0CNosabXOXt"
      },
      "source": [
        ""
      ],
      "execution_count": 15,
      "outputs": []
    }
  ]
}